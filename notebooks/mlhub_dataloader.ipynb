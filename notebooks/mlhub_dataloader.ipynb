{
 "cells": [
  {
   "cell_type": "code",
   "execution_count": 1,
   "metadata": {
    "collapsed": true
   },
   "outputs": [],
   "source": [
    "import os\n",
    "from getpass import getpass"
   ]
  },
  {
   "cell_type": "code",
   "execution_count": 2,
   "outputs": [],
   "source": [
    "os.chdir(\"..\")\n",
    "if os.path.isfile(\".env\"):\n",
    "    %load_ext dotenv\n",
    "    %dotenv"
   ],
   "metadata": {
    "collapsed": false
   }
  },
  {
   "cell_type": "code",
   "execution_count": 3,
   "outputs": [
    {
     "name": "stdout",
     "output_type": "stream",
     "text": [
      "Processing /home/francis/dev/terradue/stac-dataloader\r\n",
      "  Installing build dependencies ... \u001B[?25ldone\r\n",
      "\u001B[?25h  Getting requirements to build wheel ... \u001B[?25ldone\r\n",
      "\u001B[?25h  Preparing metadata (pyproject.toml) ... \u001B[?25ldone\r\n",
      "\u001B[?25hRequirement already satisfied: pystac-client<0.5.0,>=0.4.0 in /home/francis/dev/miniconda/envs/terradue/lib/python3.10/site-packages (from stac-dataloader==0.0.0) (0.4.0)\r\n",
      "Requirement already satisfied: torchgeo<0.5.0,>=0.4.1 in /home/francis/dev/miniconda/envs/terradue/lib/python3.10/site-packages (from stac-dataloader==0.0.0) (0.4.1)\r\n",
      "Requirement already satisfied: radiant-mlhub<0.6.0,>=0.5.5 in /home/francis/dev/miniconda/envs/terradue/lib/python3.10/site-packages (from stac-dataloader==0.0.0) (0.5.5)\r\n",
      "Requirement already satisfied: typing-extensions<5.0.0,>=4.5.0 in /home/francis/dev/miniconda/envs/terradue/lib/python3.10/site-packages (from stac-dataloader==0.0.0) (4.5.0)\r\n",
      "Requirement already satisfied: rasterio<2.0.0,>=1.3.6 in /home/francis/dev/miniconda/envs/terradue/lib/python3.10/site-packages (from stac-dataloader==0.0.0) (1.3.6)\r\n",
      "Requirement already satisfied: pystac>=1.4.0 in /home/francis/dev/miniconda/envs/terradue/lib/python3.10/site-packages (from pystac-client<0.5.0,>=0.4.0->stac-dataloader==0.0.0) (1.4.0)\r\n",
      "Requirement already satisfied: requests>=2.25 in /home/francis/dev/miniconda/envs/terradue/lib/python3.10/site-packages (from pystac-client<0.5.0,>=0.4.0->stac-dataloader==0.0.0) (2.27.1)\r\n",
      "Requirement already satisfied: python-dateutil>=2.7.0 in /home/francis/dev/miniconda/envs/terradue/lib/python3.10/site-packages (from pystac-client<0.5.0,>=0.4.0->stac-dataloader==0.0.0) (2.8.2)\r\n",
      "Requirement already satisfied: tqdm~=4.64.0 in /home/francis/dev/miniconda/envs/terradue/lib/python3.10/site-packages (from radiant-mlhub<0.6.0,>=0.5.5->stac-dataloader==0.0.0) (4.64.1)\r\n",
      "Requirement already satisfied: shapely~=1.8.0 in /home/francis/dev/miniconda/envs/terradue/lib/python3.10/site-packages (from radiant-mlhub<0.6.0,>=0.5.5->stac-dataloader==0.0.0) (1.8.5.post1)\r\n",
      "Requirement already satisfied: pydantic~=1.9.2 in /home/francis/dev/miniconda/envs/terradue/lib/python3.10/site-packages (from radiant-mlhub<0.6.0,>=0.5.5->stac-dataloader==0.0.0) (1.9.2)\r\n",
      "Requirement already satisfied: click<9.0.0,>=7.1.2 in /home/francis/dev/miniconda/envs/terradue/lib/python3.10/site-packages (from radiant-mlhub<0.6.0,>=0.5.5->stac-dataloader==0.0.0) (8.1.3)\r\n",
      "Requirement already satisfied: urllib3~=1.26.11 in /home/francis/dev/miniconda/envs/terradue/lib/python3.10/site-packages (from radiant-mlhub<0.6.0,>=0.5.5->stac-dataloader==0.0.0) (1.26.15)\r\n",
      "Requirement already satisfied: cligj>=0.5 in /home/francis/dev/miniconda/envs/terradue/lib/python3.10/site-packages (from rasterio<2.0.0,>=1.3.6->stac-dataloader==0.0.0) (0.7.2)\r\n",
      "Requirement already satisfied: snuggs>=1.4.1 in /home/francis/dev/miniconda/envs/terradue/lib/python3.10/site-packages (from rasterio<2.0.0,>=1.3.6->stac-dataloader==0.0.0) (1.4.7)\r\n",
      "Requirement already satisfied: numpy>=1.18 in /home/francis/dev/miniconda/envs/terradue/lib/python3.10/site-packages (from rasterio<2.0.0,>=1.3.6->stac-dataloader==0.0.0) (1.24.3)\r\n",
      "Requirement already satisfied: click-plugins in /home/francis/dev/miniconda/envs/terradue/lib/python3.10/site-packages (from rasterio<2.0.0,>=1.3.6->stac-dataloader==0.0.0) (1.1.1)\r\n",
      "Requirement already satisfied: setuptools in /home/francis/dev/miniconda/envs/terradue/lib/python3.10/site-packages (from rasterio<2.0.0,>=1.3.6->stac-dataloader==0.0.0) (67.7.2)\r\n",
      "Requirement already satisfied: affine in /home/francis/dev/miniconda/envs/terradue/lib/python3.10/site-packages (from rasterio<2.0.0,>=1.3.6->stac-dataloader==0.0.0) (2.4.0)\r\n",
      "Requirement already satisfied: certifi in /home/francis/dev/miniconda/envs/terradue/lib/python3.10/site-packages (from rasterio<2.0.0,>=1.3.6->stac-dataloader==0.0.0) (2022.12.7)\r\n",
      "Requirement already satisfied: attrs in /home/francis/dev/miniconda/envs/terradue/lib/python3.10/site-packages (from rasterio<2.0.0,>=1.3.6->stac-dataloader==0.0.0) (23.1.0)\r\n",
      "Requirement already satisfied: segmentation-models-pytorch<0.4,>=0.2 in /home/francis/dev/miniconda/envs/terradue/lib/python3.10/site-packages (from torchgeo<0.5.0,>=0.4.1->stac-dataloader==0.0.0) (0.3.2)\r\n",
      "Requirement already satisfied: pillow<10,>=6.2 in /home/francis/dev/miniconda/envs/terradue/lib/python3.10/site-packages (from torchgeo<0.5.0,>=0.4.1->stac-dataloader==0.0.0) (9.5.0)\r\n",
      "Requirement already satisfied: torchvision<0.16,>=0.13 in /home/francis/dev/miniconda/envs/terradue/lib/python3.10/site-packages (from torchgeo<0.5.0,>=0.4.1->stac-dataloader==0.0.0) (0.15.1)\r\n",
      "Requirement already satisfied: lightning<2,>=1.8 in /home/francis/dev/miniconda/envs/terradue/lib/python3.10/site-packages (from torchgeo<0.5.0,>=0.4.1->stac-dataloader==0.0.0) (1.9.5)\r\n",
      "Requirement already satisfied: scikit-learn<2,>=0.21 in /home/francis/dev/miniconda/envs/terradue/lib/python3.10/site-packages (from torchgeo<0.5.0,>=0.4.1->stac-dataloader==0.0.0) (1.2.2)\r\n",
      "Requirement already satisfied: timm<0.7,>=0.4.12 in /home/francis/dev/miniconda/envs/terradue/lib/python3.10/site-packages (from torchgeo<0.5.0,>=0.4.1->stac-dataloader==0.0.0) (0.6.12)\r\n",
      "Requirement already satisfied: einops<0.7,>=0.3 in /home/francis/dev/miniconda/envs/terradue/lib/python3.10/site-packages (from torchgeo<0.5.0,>=0.4.1->stac-dataloader==0.0.0) (0.6.1)\r\n",
      "Requirement already satisfied: torchmetrics<0.12,>=0.10 in /home/francis/dev/miniconda/envs/terradue/lib/python3.10/site-packages (from torchgeo<0.5.0,>=0.4.1->stac-dataloader==0.0.0) (0.11.4)\r\n",
      "Requirement already satisfied: kornia<0.7,>=0.6.5 in /home/francis/dev/miniconda/envs/terradue/lib/python3.10/site-packages (from torchgeo<0.5.0,>=0.4.1->stac-dataloader==0.0.0) (0.6.12)\r\n",
      "Requirement already satisfied: pyproj<4,>=2.2 in /home/francis/dev/miniconda/envs/terradue/lib/python3.10/site-packages (from torchgeo<0.5.0,>=0.4.1->stac-dataloader==0.0.0) (3.5.0)\r\n",
      "Requirement already satisfied: matplotlib<4,>=3.3 in /home/francis/dev/miniconda/envs/terradue/lib/python3.10/site-packages (from torchgeo<0.5.0,>=0.4.1->stac-dataloader==0.0.0) (3.7.1)\r\n",
      "Requirement already satisfied: fiona<2,>=1.8 in /home/francis/dev/miniconda/envs/terradue/lib/python3.10/site-packages (from torchgeo<0.5.0,>=0.4.1->stac-dataloader==0.0.0) (1.9.3)\r\n",
      "Requirement already satisfied: torch<3,>=1.12 in /home/francis/dev/miniconda/envs/terradue/lib/python3.10/site-packages (from torchgeo<0.5.0,>=0.4.1->stac-dataloader==0.0.0) (2.0.0)\r\n",
      "Requirement already satisfied: rtree<2,>=1 in /home/francis/dev/miniconda/envs/terradue/lib/python3.10/site-packages (from torchgeo<0.5.0,>=0.4.1->stac-dataloader==0.0.0) (1.0.1)\r\n",
      "Requirement already satisfied: munch>=2.3.2 in /home/francis/dev/miniconda/envs/terradue/lib/python3.10/site-packages (from fiona<2,>=1.8->torchgeo<0.5.0,>=0.4.1->stac-dataloader==0.0.0) (2.5.0)\r\n",
      "Requirement already satisfied: packaging in /home/francis/dev/miniconda/envs/terradue/lib/python3.10/site-packages (from kornia<0.7,>=0.6.5->torchgeo<0.5.0,>=0.4.1->stac-dataloader==0.0.0) (23.1)\r\n",
      "Requirement already satisfied: PyYAML<8.0 in /home/francis/dev/miniconda/envs/terradue/lib/python3.10/site-packages (from lightning<2,>=1.8->torchgeo<0.5.0,>=0.4.1->stac-dataloader==0.0.0) (6.0)\r\n",
      "Requirement already satisfied: websocket-client<3.0 in /home/francis/dev/miniconda/envs/terradue/lib/python3.10/site-packages (from lightning<2,>=1.8->torchgeo<0.5.0,>=0.4.1->stac-dataloader==0.0.0) (1.5.1)\r\n",
      "Requirement already satisfied: dateutils<2.0 in /home/francis/dev/miniconda/envs/terradue/lib/python3.10/site-packages (from lightning<2,>=1.8->torchgeo<0.5.0,>=0.4.1->stac-dataloader==0.0.0) (0.6.12)\r\n",
      "Requirement already satisfied: arrow<3.0,>=1.2.0 in /home/francis/dev/miniconda/envs/terradue/lib/python3.10/site-packages (from lightning<2,>=1.8->torchgeo<0.5.0,>=0.4.1->stac-dataloader==0.0.0) (1.2.3)\r\n",
      "Requirement already satisfied: fsspec[http]<2025.0,>2021.06.0 in /home/francis/dev/miniconda/envs/terradue/lib/python3.10/site-packages (from lightning<2,>=1.8->torchgeo<0.5.0,>=0.4.1->stac-dataloader==0.0.0) (2023.4.0)\r\n",
      "Requirement already satisfied: beautifulsoup4<6.0,>=4.8.0 in /home/francis/dev/miniconda/envs/terradue/lib/python3.10/site-packages (from lightning<2,>=1.8->torchgeo<0.5.0,>=0.4.1->stac-dataloader==0.0.0) (4.12.2)\r\n",
      "Requirement already satisfied: psutil<7.0 in /home/francis/dev/miniconda/envs/terradue/lib/python3.10/site-packages (from lightning<2,>=1.8->torchgeo<0.5.0,>=0.4.1->stac-dataloader==0.0.0) (5.9.5)\r\n",
      "Requirement already satisfied: uvicorn<2.0 in /home/francis/dev/miniconda/envs/terradue/lib/python3.10/site-packages (from lightning<2,>=1.8->torchgeo<0.5.0,>=0.4.1->stac-dataloader==0.0.0) (0.21.1)\r\n",
      "Requirement already satisfied: fastapi<0.89.0 in /home/francis/dev/miniconda/envs/terradue/lib/python3.10/site-packages (from lightning<2,>=1.8->torchgeo<0.5.0,>=0.4.1->stac-dataloader==0.0.0) (0.1.17)\r\n",
      "Requirement already satisfied: websockets<12.0 in /home/francis/dev/miniconda/envs/terradue/lib/python3.10/site-packages (from lightning<2,>=1.8->torchgeo<0.5.0,>=0.4.1->stac-dataloader==0.0.0) (11.0.2)\r\n",
      "Requirement already satisfied: inquirer<5.0,>=2.10.0 in /home/francis/dev/miniconda/envs/terradue/lib/python3.10/site-packages (from lightning<2,>=1.8->torchgeo<0.5.0,>=0.4.1->stac-dataloader==0.0.0) (3.1.3)\r\n",
      "Requirement already satisfied: lightning-cloud>=0.5.27 in /home/francis/dev/miniconda/envs/terradue/lib/python3.10/site-packages (from lightning<2,>=1.8->torchgeo<0.5.0,>=0.4.1->stac-dataloader==0.0.0) (0.5.34)\r\n",
      "Requirement already satisfied: rich<15.0 in /home/francis/dev/miniconda/envs/terradue/lib/python3.10/site-packages (from lightning<2,>=1.8->torchgeo<0.5.0,>=0.4.1->stac-dataloader==0.0.0) (13.3.4)\r\n",
      "Requirement already satisfied: deepdiff<8.0,>=5.7.0 in /home/francis/dev/miniconda/envs/terradue/lib/python3.10/site-packages (from lightning<2,>=1.8->torchgeo<0.5.0,>=0.4.1->stac-dataloader==0.0.0) (6.3.0)\r\n",
      "Requirement already satisfied: croniter<1.4.0,>=1.3.0 in /home/francis/dev/miniconda/envs/terradue/lib/python3.10/site-packages (from lightning<2,>=1.8->torchgeo<0.5.0,>=0.4.1->stac-dataloader==0.0.0) (1.3.14)\r\n",
      "Requirement already satisfied: lightning-utilities<2.0,>=0.6.0.post0 in /home/francis/dev/miniconda/envs/terradue/lib/python3.10/site-packages (from lightning<2,>=1.8->torchgeo<0.5.0,>=0.4.1->stac-dataloader==0.0.0) (0.8.0)\r\n",
      "Requirement already satisfied: starlette<2.0 in /home/francis/dev/miniconda/envs/terradue/lib/python3.10/site-packages (from lightning<2,>=1.8->torchgeo<0.5.0,>=0.4.1->stac-dataloader==0.0.0) (0.26.1)\r\n",
      "Requirement already satisfied: Jinja2<5.0 in /home/francis/dev/miniconda/envs/terradue/lib/python3.10/site-packages (from lightning<2,>=1.8->torchgeo<0.5.0,>=0.4.1->stac-dataloader==0.0.0) (3.1.2)\r\n",
      "Requirement already satisfied: starsessions<2.0,>=1.2.1 in /home/francis/dev/miniconda/envs/terradue/lib/python3.10/site-packages (from lightning<2,>=1.8->torchgeo<0.5.0,>=0.4.1->stac-dataloader==0.0.0) (1.3.0)\r\n",
      "Requirement already satisfied: traitlets<7.0,>=5.3.0 in /home/francis/dev/miniconda/envs/terradue/lib/python3.10/site-packages (from lightning<2,>=1.8->torchgeo<0.5.0,>=0.4.1->stac-dataloader==0.0.0) (5.9.0)\r\n",
      "Requirement already satisfied: kiwisolver>=1.0.1 in /home/francis/dev/miniconda/envs/terradue/lib/python3.10/site-packages (from matplotlib<4,>=3.3->torchgeo<0.5.0,>=0.4.1->stac-dataloader==0.0.0) (1.4.4)\r\n",
      "Requirement already satisfied: contourpy>=1.0.1 in /home/francis/dev/miniconda/envs/terradue/lib/python3.10/site-packages (from matplotlib<4,>=3.3->torchgeo<0.5.0,>=0.4.1->stac-dataloader==0.0.0) (1.0.7)\r\n",
      "Requirement already satisfied: fonttools>=4.22.0 in /home/francis/dev/miniconda/envs/terradue/lib/python3.10/site-packages (from matplotlib<4,>=3.3->torchgeo<0.5.0,>=0.4.1->stac-dataloader==0.0.0) (4.39.3)\r\n",
      "Requirement already satisfied: cycler>=0.10 in /home/francis/dev/miniconda/envs/terradue/lib/python3.10/site-packages (from matplotlib<4,>=3.3->torchgeo<0.5.0,>=0.4.1->stac-dataloader==0.0.0) (0.11.0)\r\n",
      "Requirement already satisfied: pyparsing>=2.3.1 in /home/francis/dev/miniconda/envs/terradue/lib/python3.10/site-packages (from matplotlib<4,>=3.3->torchgeo<0.5.0,>=0.4.1->stac-dataloader==0.0.0) (3.0.9)\r\n",
      "Requirement already satisfied: six>=1.5 in /home/francis/dev/miniconda/envs/terradue/lib/python3.10/site-packages (from python-dateutil>=2.7.0->pystac-client<0.5.0,>=0.4.0->stac-dataloader==0.0.0) (1.16.0)\r\n",
      "Requirement already satisfied: charset-normalizer~=2.0.0 in /home/francis/dev/miniconda/envs/terradue/lib/python3.10/site-packages (from requests>=2.25->pystac-client<0.5.0,>=0.4.0->stac-dataloader==0.0.0) (2.0.12)\r\n",
      "Requirement already satisfied: idna<4,>=2.5 in /home/francis/dev/miniconda/envs/terradue/lib/python3.10/site-packages (from requests>=2.25->pystac-client<0.5.0,>=0.4.0->stac-dataloader==0.0.0) (3.4)\r\n",
      "Requirement already satisfied: threadpoolctl>=2.0.0 in /home/francis/dev/miniconda/envs/terradue/lib/python3.10/site-packages (from scikit-learn<2,>=0.21->torchgeo<0.5.0,>=0.4.1->stac-dataloader==0.0.0) (3.1.0)\r\n",
      "Requirement already satisfied: joblib>=1.1.1 in /home/francis/dev/miniconda/envs/terradue/lib/python3.10/site-packages (from scikit-learn<2,>=0.21->torchgeo<0.5.0,>=0.4.1->stac-dataloader==0.0.0) (1.2.0)\r\n",
      "Requirement already satisfied: scipy>=1.3.2 in /home/francis/dev/miniconda/envs/terradue/lib/python3.10/site-packages (from scikit-learn<2,>=0.21->torchgeo<0.5.0,>=0.4.1->stac-dataloader==0.0.0) (1.9.3)\r\n",
      "Requirement already satisfied: pretrainedmodels==0.7.4 in /home/francis/dev/miniconda/envs/terradue/lib/python3.10/site-packages (from segmentation-models-pytorch<0.4,>=0.2->torchgeo<0.5.0,>=0.4.1->stac-dataloader==0.0.0) (0.7.4)\r\n",
      "Requirement already satisfied: efficientnet-pytorch==0.7.1 in /home/francis/dev/miniconda/envs/terradue/lib/python3.10/site-packages (from segmentation-models-pytorch<0.4,>=0.2->torchgeo<0.5.0,>=0.4.1->stac-dataloader==0.0.0) (0.7.1)\r\n",
      "Requirement already satisfied: huggingface-hub in /home/francis/dev/miniconda/envs/terradue/lib/python3.10/site-packages (from timm<0.7,>=0.4.12->torchgeo<0.5.0,>=0.4.1->stac-dataloader==0.0.0) (0.14.1)\r\n",
      "Requirement already satisfied: nvidia-cudnn-cu11==8.5.0.96 in /home/francis/dev/miniconda/envs/terradue/lib/python3.10/site-packages (from torch<3,>=1.12->torchgeo<0.5.0,>=0.4.1->stac-dataloader==0.0.0) (8.5.0.96)\r\n",
      "Requirement already satisfied: nvidia-curand-cu11==10.2.10.91 in /home/francis/dev/miniconda/envs/terradue/lib/python3.10/site-packages (from torch<3,>=1.12->torchgeo<0.5.0,>=0.4.1->stac-dataloader==0.0.0) (10.2.10.91)\r\n",
      "Requirement already satisfied: triton==2.0.0 in /home/francis/dev/miniconda/envs/terradue/lib/python3.10/site-packages (from torch<3,>=1.12->torchgeo<0.5.0,>=0.4.1->stac-dataloader==0.0.0) (2.0.0)\r\n",
      "Requirement already satisfied: nvidia-cufft-cu11==10.9.0.58 in /home/francis/dev/miniconda/envs/terradue/lib/python3.10/site-packages (from torch<3,>=1.12->torchgeo<0.5.0,>=0.4.1->stac-dataloader==0.0.0) (10.9.0.58)\r\n",
      "Requirement already satisfied: sympy in /home/francis/dev/miniconda/envs/terradue/lib/python3.10/site-packages (from torch<3,>=1.12->torchgeo<0.5.0,>=0.4.1->stac-dataloader==0.0.0) (1.11.1)\r\n",
      "Requirement already satisfied: nvidia-cuda-nvrtc-cu11==11.7.99 in /home/francis/dev/miniconda/envs/terradue/lib/python3.10/site-packages (from torch<3,>=1.12->torchgeo<0.5.0,>=0.4.1->stac-dataloader==0.0.0) (11.7.99)\r\n",
      "Requirement already satisfied: filelock in /home/francis/dev/miniconda/envs/terradue/lib/python3.10/site-packages (from torch<3,>=1.12->torchgeo<0.5.0,>=0.4.1->stac-dataloader==0.0.0) (3.12.0)\r\n",
      "Requirement already satisfied: nvidia-nvtx-cu11==11.7.91 in /home/francis/dev/miniconda/envs/terradue/lib/python3.10/site-packages (from torch<3,>=1.12->torchgeo<0.5.0,>=0.4.1->stac-dataloader==0.0.0) (11.7.91)\r\n",
      "Requirement already satisfied: nvidia-cuda-runtime-cu11==11.7.99 in /home/francis/dev/miniconda/envs/terradue/lib/python3.10/site-packages (from torch<3,>=1.12->torchgeo<0.5.0,>=0.4.1->stac-dataloader==0.0.0) (11.7.99)\r\n",
      "Requirement already satisfied: nvidia-cusparse-cu11==11.7.4.91 in /home/francis/dev/miniconda/envs/terradue/lib/python3.10/site-packages (from torch<3,>=1.12->torchgeo<0.5.0,>=0.4.1->stac-dataloader==0.0.0) (11.7.4.91)\r\n",
      "Requirement already satisfied: nvidia-cusolver-cu11==11.4.0.1 in /home/francis/dev/miniconda/envs/terradue/lib/python3.10/site-packages (from torch<3,>=1.12->torchgeo<0.5.0,>=0.4.1->stac-dataloader==0.0.0) (11.4.0.1)\r\n",
      "Requirement already satisfied: nvidia-cublas-cu11==11.10.3.66 in /home/francis/dev/miniconda/envs/terradue/lib/python3.10/site-packages (from torch<3,>=1.12->torchgeo<0.5.0,>=0.4.1->stac-dataloader==0.0.0) (11.10.3.66)\r\n",
      "Requirement already satisfied: nvidia-nccl-cu11==2.14.3 in /home/francis/dev/miniconda/envs/terradue/lib/python3.10/site-packages (from torch<3,>=1.12->torchgeo<0.5.0,>=0.4.1->stac-dataloader==0.0.0) (2.14.3)\r\n",
      "Requirement already satisfied: networkx in /home/francis/dev/miniconda/envs/terradue/lib/python3.10/site-packages (from torch<3,>=1.12->torchgeo<0.5.0,>=0.4.1->stac-dataloader==0.0.0) (3.1)\r\n",
      "Requirement already satisfied: nvidia-cuda-cupti-cu11==11.7.101 in /home/francis/dev/miniconda/envs/terradue/lib/python3.10/site-packages (from torch<3,>=1.12->torchgeo<0.5.0,>=0.4.1->stac-dataloader==0.0.0) (11.7.101)\r\n",
      "Requirement already satisfied: wheel in /home/francis/dev/miniconda/envs/terradue/lib/python3.10/site-packages (from nvidia-cublas-cu11==11.10.3.66->torch<3,>=1.12->torchgeo<0.5.0,>=0.4.1->stac-dataloader==0.0.0) (0.40.0)\r\n",
      "Requirement already satisfied: lit in /home/francis/dev/miniconda/envs/terradue/lib/python3.10/site-packages (from triton==2.0.0->torch<3,>=1.12->torchgeo<0.5.0,>=0.4.1->stac-dataloader==0.0.0) (16.0.2)\r\n",
      "Requirement already satisfied: cmake in /home/francis/dev/miniconda/envs/terradue/lib/python3.10/site-packages (from triton==2.0.0->torch<3,>=1.12->torchgeo<0.5.0,>=0.4.1->stac-dataloader==0.0.0) (3.26.3)\r\n",
      "Requirement already satisfied: soupsieve>1.2 in /home/francis/dev/miniconda/envs/terradue/lib/python3.10/site-packages (from beautifulsoup4<6.0,>=4.8.0->lightning<2,>=1.8->torchgeo<0.5.0,>=0.4.1->stac-dataloader==0.0.0) (2.4.1)\r\n",
      "Requirement already satisfied: pytz in /home/francis/dev/miniconda/envs/terradue/lib/python3.10/site-packages (from dateutils<2.0->lightning<2,>=1.8->torchgeo<0.5.0,>=0.4.1->stac-dataloader==0.0.0) (2023.3)\r\n",
      "Requirement already satisfied: ordered-set<4.2.0,>=4.0.2 in /home/francis/dev/miniconda/envs/terradue/lib/python3.10/site-packages (from deepdiff<8.0,>=5.7.0->lightning<2,>=1.8->torchgeo<0.5.0,>=0.4.1->stac-dataloader==0.0.0) (4.1.0)\r\n",
      "Requirement already satisfied: aiohttp!=4.0.0a0,!=4.0.0a1 in /home/francis/dev/miniconda/envs/terradue/lib/python3.10/site-packages (from fsspec[http]<2025.0,>2021.06.0->lightning<2,>=1.8->torchgeo<0.5.0,>=0.4.1->stac-dataloader==0.0.0) (3.8.4)\r\n",
      "Requirement already satisfied: blessed>=1.19.0 in /home/francis/dev/miniconda/envs/terradue/lib/python3.10/site-packages (from inquirer<5.0,>=2.10.0->lightning<2,>=1.8->torchgeo<0.5.0,>=0.4.1->stac-dataloader==0.0.0) (1.20.0)\r\n",
      "Requirement already satisfied: readchar>=3.0.6 in /home/francis/dev/miniconda/envs/terradue/lib/python3.10/site-packages (from inquirer<5.0,>=2.10.0->lightning<2,>=1.8->torchgeo<0.5.0,>=0.4.1->stac-dataloader==0.0.0) (4.0.5)\r\n",
      "Requirement already satisfied: python-editor>=1.0.4 in /home/francis/dev/miniconda/envs/terradue/lib/python3.10/site-packages (from inquirer<5.0,>=2.10.0->lightning<2,>=1.8->torchgeo<0.5.0,>=0.4.1->stac-dataloader==0.0.0) (1.0.4)\r\n",
      "Requirement already satisfied: MarkupSafe>=2.0 in /home/francis/dev/miniconda/envs/terradue/lib/python3.10/site-packages (from Jinja2<5.0->lightning<2,>=1.8->torchgeo<0.5.0,>=0.4.1->stac-dataloader==0.0.0) (2.1.2)\r\n",
      "Requirement already satisfied: pyjwt in /home/francis/dev/miniconda/envs/terradue/lib/python3.10/site-packages (from lightning-cloud>=0.5.27->lightning<2,>=1.8->torchgeo<0.5.0,>=0.4.1->stac-dataloader==0.0.0) (2.6.0)\r\n",
      "Requirement already satisfied: python-multipart in /home/francis/dev/miniconda/envs/terradue/lib/python3.10/site-packages (from lightning-cloud>=0.5.27->lightning<2,>=1.8->torchgeo<0.5.0,>=0.4.1->stac-dataloader==0.0.0) (0.0.6)\r\n",
      "Requirement already satisfied: pygments<3.0.0,>=2.13.0 in /home/francis/dev/miniconda/envs/terradue/lib/python3.10/site-packages (from rich<15.0->lightning<2,>=1.8->torchgeo<0.5.0,>=0.4.1->stac-dataloader==0.0.0) (2.15.1)\r\n",
      "Requirement already satisfied: markdown-it-py<3.0.0,>=2.2.0 in /home/francis/dev/miniconda/envs/terradue/lib/python3.10/site-packages (from rich<15.0->lightning<2,>=1.8->torchgeo<0.5.0,>=0.4.1->stac-dataloader==0.0.0) (2.2.0)\r\n",
      "Requirement already satisfied: anyio<5,>=3.4.0 in /home/francis/dev/miniconda/envs/terradue/lib/python3.10/site-packages (from starlette<2.0->lightning<2,>=1.8->torchgeo<0.5.0,>=0.4.1->stac-dataloader==0.0.0) (3.6.2)\r\n",
      "Requirement already satisfied: itsdangerous<3.0.0,>=2.0.1 in /home/francis/dev/miniconda/envs/terradue/lib/python3.10/site-packages (from starsessions<2.0,>=1.2.1->lightning<2,>=1.8->torchgeo<0.5.0,>=0.4.1->stac-dataloader==0.0.0) (2.1.2)\r\n",
      "Requirement already satisfied: h11>=0.8 in /home/francis/dev/miniconda/envs/terradue/lib/python3.10/site-packages (from uvicorn<2.0->lightning<2,>=1.8->torchgeo<0.5.0,>=0.4.1->stac-dataloader==0.0.0) (0.14.0)\r\n",
      "Requirement already satisfied: mpmath>=0.19 in /home/francis/dev/miniconda/envs/terradue/lib/python3.10/site-packages (from sympy->torch<3,>=1.12->torchgeo<0.5.0,>=0.4.1->stac-dataloader==0.0.0) (1.3.0)\r\n",
      "Requirement already satisfied: aiosignal>=1.1.2 in /home/francis/dev/miniconda/envs/terradue/lib/python3.10/site-packages (from aiohttp!=4.0.0a0,!=4.0.0a1->fsspec[http]<2025.0,>2021.06.0->lightning<2,>=1.8->torchgeo<0.5.0,>=0.4.1->stac-dataloader==0.0.0) (1.3.1)\r\n",
      "Requirement already satisfied: async-timeout<5.0,>=4.0.0a3 in /home/francis/dev/miniconda/envs/terradue/lib/python3.10/site-packages (from aiohttp!=4.0.0a0,!=4.0.0a1->fsspec[http]<2025.0,>2021.06.0->lightning<2,>=1.8->torchgeo<0.5.0,>=0.4.1->stac-dataloader==0.0.0) (4.0.2)\r\n",
      "Requirement already satisfied: multidict<7.0,>=4.5 in /home/francis/dev/miniconda/envs/terradue/lib/python3.10/site-packages (from aiohttp!=4.0.0a0,!=4.0.0a1->fsspec[http]<2025.0,>2021.06.0->lightning<2,>=1.8->torchgeo<0.5.0,>=0.4.1->stac-dataloader==0.0.0) (6.0.4)\r\n",
      "Requirement already satisfied: yarl<2.0,>=1.0 in /home/francis/dev/miniconda/envs/terradue/lib/python3.10/site-packages (from aiohttp!=4.0.0a0,!=4.0.0a1->fsspec[http]<2025.0,>2021.06.0->lightning<2,>=1.8->torchgeo<0.5.0,>=0.4.1->stac-dataloader==0.0.0) (1.9.2)\r\n",
      "Requirement already satisfied: frozenlist>=1.1.1 in /home/francis/dev/miniconda/envs/terradue/lib/python3.10/site-packages (from aiohttp!=4.0.0a0,!=4.0.0a1->fsspec[http]<2025.0,>2021.06.0->lightning<2,>=1.8->torchgeo<0.5.0,>=0.4.1->stac-dataloader==0.0.0) (1.3.3)\r\n",
      "Requirement already satisfied: sniffio>=1.1 in /home/francis/dev/miniconda/envs/terradue/lib/python3.10/site-packages (from anyio<5,>=3.4.0->starlette<2.0->lightning<2,>=1.8->torchgeo<0.5.0,>=0.4.1->stac-dataloader==0.0.0) (1.3.0)\r\n",
      "Requirement already satisfied: wcwidth>=0.1.4 in /home/francis/dev/miniconda/envs/terradue/lib/python3.10/site-packages (from blessed>=1.19.0->inquirer<5.0,>=2.10.0->lightning<2,>=1.8->torchgeo<0.5.0,>=0.4.1->stac-dataloader==0.0.0) (0.2.6)\r\n",
      "Requirement already satisfied: mdurl~=0.1 in /home/francis/dev/miniconda/envs/terradue/lib/python3.10/site-packages (from markdown-it-py<3.0.0,>=2.2.0->rich<15.0->lightning<2,>=1.8->torchgeo<0.5.0,>=0.4.1->stac-dataloader==0.0.0) (0.1.2)\r\n",
      "Building wheels for collected packages: stac-dataloader\r\n",
      "  Building wheel for stac-dataloader (pyproject.toml) ... \u001B[?25ldone\r\n",
      "\u001B[?25h  Created wheel for stac-dataloader: filename=stac_dataloader-0.0.0-py3-none-any.whl size=3252 sha256=c15cba937c9e0d0ced46c8dfdfd6ae0c425768c860f35a0224222df80866c603\r\n",
      "  Stored in directory: /home/francis/.cache/pip/wheels/04/7b/96/f50a11e324548a9c4b2328ae42a20fc886f165b9828e09b92c\r\n",
      "Successfully built stac-dataloader\r\n",
      "Installing collected packages: stac-dataloader\r\n",
      "  Attempting uninstall: stac-dataloader\r\n",
      "    Found existing installation: stac-dataloader 0.0.0\r\n",
      "    Uninstalling stac-dataloader-0.0.0:\r\n",
      "      Successfully uninstalled stac-dataloader-0.0.0\r\n",
      "Successfully installed stac-dataloader-0.0.0\r\n"
     ]
    }
   ],
   "source": [
    "!pip install \".\"\n",
    "from stac_dataloader.mlhub_dataloader import MLHubDataset"
   ],
   "metadata": {
    "collapsed": false
   }
  },
  {
   "cell_type": "code",
   "execution_count": 4,
   "outputs": [],
   "source": [
    "MLHUB_API_KEY = os.getenv(\"MLHUB_API_KEY\") or getpass(\"MLHub API Key:\")\n",
    "assert MLHUB_API_KEY\n",
    "MLHUB_DATASET = os.getenv(\"MLHUB_DATASET\") or input(\"MLHub Dataset:\")\n",
    "assert MLHUB_DATASET\n",
    "MLHUB_DATA_DIR = os.getenv(\"MLHUB_DATA_DIR\") or os.path.abspath(\"./data\")"
   ],
   "metadata": {
    "collapsed": false
   }
  },
  {
   "cell_type": "code",
   "execution_count": 4,
   "outputs": [],
   "source": [
    "dataset = MLHubDataset(MLHUB_API_KEY, MLHUB_DATASET)\n"
   ],
   "metadata": {
    "collapsed": false
   }
  }
 ],
 "metadata": {
  "kernelspec": {
   "name": "terradue",
   "language": "python",
   "display_name": "terradue"
  },
  "language_info": {
   "codemirror_mode": {
    "name": "ipython",
    "version": 2
   },
   "file_extension": ".py",
   "mimetype": "text/x-python",
   "name": "python",
   "nbconvert_exporter": "python",
   "pygments_lexer": "ipython2",
   "version": "2.7.6"
  }
 },
 "nbformat": 4,
 "nbformat_minor": 0
}
