{
 "cells": [
  {
   "cell_type": "markdown",
   "source": [
    "# STAC EuroSAT\n",
    "\n",
    "This notebook demonstrates how to convert annotations provided by [EuroSAT](https://github.com/phelber/EuroSAT) dataset\n",
    "into STAC-compatible definitions with extensions relevant for machine learning tasks.\n",
    "To facilitate parsing of EuroSAT data,\n",
    "the [torchgeo.datasets.EuroSAT](https://torchgeo.readthedocs.io/en/stable/api/datasets.html#torchgeo.datasets.EuroSAT)\n",
    "class will be used to handle the metadata extraction process, splits definition and sample generation."
   ],
   "metadata": {
    "collapsed": false
   }
  },
  {
   "cell_type": "code",
   "execution_count": 1,
   "outputs": [],
   "source": [
    "import os\n",
    "from typing import Any, Dict, List, Literal, NotRequired, Required, Tuple, TypedDict, Union\n",
    "\n",
    "from osgeo import gdal\n",
    "\n",
    "# pick one:\n",
    "from torchgeo.datasets import EuroSAT100 as DatasetEuroSAT  # subset of (6 train, 2 val, 2 test) images per class\n",
    "# from torchgeo.datasets import EuroSAT as DatasetEuroSAT  # full dataset"
   ],
   "metadata": {
    "collapsed": false,
    "ExecuteTime": {
     "end_time": "2023-05-25T17:47:39.771998558Z",
     "start_time": "2023-05-25T17:47:35.163718919Z"
    }
   }
  },
  {
   "cell_type": "markdown",
   "source": [
    "General configurations"
   ],
   "metadata": {
    "collapsed": false
   }
  },
  {
   "cell_type": "code",
   "execution_count": 2,
   "outputs": [],
   "source": [
    "DATA_ROOT_DIR = os.path.abspath(\"../data\")\n",
    "EUROSAT_ROOT_DIR = os.path.join(DATA_ROOT_DIR, \"EuroSAT\")\n",
    "EUROSAT_DATA_DIR = os.path.join(EUROSAT_ROOT_DIR, \"data\")\n",
    "EUROSAT_STAC_DIR = os.path.join(EUROSAT_ROOT_DIR, \"stac\")\n",
    "EUROSAT_STAC_URL = \"https://example.com/data/\"  # base URL where samples would be accessible from (links in STAC)"
   ],
   "metadata": {
    "collapsed": false,
    "ExecuteTime": {
     "end_time": "2023-05-25T17:47:42.640968052Z",
     "start_time": "2023-05-25T17:47:42.581975463Z"
    }
   }
  },
  {
   "cell_type": "markdown",
   "source": [
    "Base STAC definitions"
   ],
   "metadata": {
    "collapsed": false
   }
  },
  {
   "cell_type": "code",
   "execution_count": null,
   "outputs": [],
   "source": [
    "# technically, tuples would be better for bbox/point, but not the types used in JSON\n",
    "BoundingBox = List[Union[int, float]]  # 4 value\n",
    "Point = List[int, float]  # 2 values\n",
    "DateTimeInterval = List[Union[str, None]]\n",
    "GeoJSONGeometry = TypedDict(\n",
    "    \"GeoJSONGeometry\",\n",
    "    {\n",
    "        \"type\": Literal[\"Polygon\", \"MultiPolygon\"],  # others exist, but not really applicable for this case\n",
    "        \"coordinates\": List[Point],  # at least 4 normally for square/polygon bbox, but more valid if multi-polygon\n",
    "    }\n",
    ")\n",
    "SpatialExtent = TypedDict(\n",
    "    \"SpatialExtent\",\n",
    "    {\n",
    "        \"bbox\": Required[List[BoundingBox]],\n",
    "    }\n",
    ")\n",
    "TemporalExtent = TypedDict(\n",
    "    \"TemporalExtent\",\n",
    "    {\n",
    "        \"interval\": Required[List[DateTimeInterval]],\n",
    "    }\n",
    ")\n",
    "Extent = TypedDict(\n",
    "    \"Extent\",\n",
    "    {\n",
    "        \"spatial\": Required[SpatialExtent],\n",
    "        \"temporal\": Required[TemporalExtent],\n",
    "    }\n",
    ")\n",
    "Provider = TypedDict(\n",
    "    \"Provider\",\n",
    "    {\n",
    "        \"name\": str,\n",
    "        \"roles\": List[str],\n",
    "        \"url\": str,\n",
    "    }\n",
    ")\n",
    "Link = TypedDict(\n",
    "    \"Link\",\n",
    "    {\n",
    "        \"rel\": str,\n",
    "        \"href\": str,\n",
    "    },\n",
    "    total=False,\n",
    ")\n",
    "STACMetadata = TypedDict(\n",
    "    \"STACMetadata\",\n",
    "    {\n",
    "        \"stac_version\": Required[str],\n",
    "        \"stac_extensions\": Required[List[str]],\n",
    "        \"type\": Required[Literal[\"Collection\", \"Feature\"]],  # NB: Feature == STAC Item\n",
    "        \"id\": Required[str],\n",
    "        \"title\": NotRequired[str],\n",
    "        \"description\": NotRequired[str],\n",
    "        \"version\": Required[str],\n",
    "        \"keywords\": NotRequired[List[str]],\n",
    "        \"license\": Required[str],  # anything, but commonly \"CC-BY-SA-4.0\"\n",
    "        \"links\": Required[List[Link]],\n",
    "    }\n",
    ")\n",
    "STACCollectionCore = TypedDict(\n",
    "    \"STACCollectionCore\",\n",
    "    {\n",
    "        \"extent\": Required[Extent],\n",
    "        \"providers\": NotRequired[List[Provider]],\n",
    "    }\n",
    ")\n",
    "STACCollection = Union[STACMetadata, STACCollectionCore]\n",
    "STACItemCore = TypedDict(\n",
    "    \"STACItemCore\",\n",
    "    {\n",
    "        \"bbox\": Required[BoundingBox],\n",
    "        \"geometry\": Required[GeoJSONGeometry],\n",
    "        \"assets\": Required[List[Dict[str, Any]]],\n",
    "        \"properties\": Required[Dict[str, Any]],\n",
    "    }\n",
    ")\n",
    "STACLabelRef = TypedDict(\n",
    "    \"STACLabelRef\",\n",
    "    {\n",
    "        \"title\": str,\n",
    "        \"href\": str,    # URL to GeoJSON FeatureCollection or GeoTiff/COG\n",
    "        \"type\": str,    # media-type\n",
    "    }\n",
    ")\n",
    "STACLabelAssets = TypedDict(\n",
    "    \"STACLabelAssets\",\n",
    "    {\n",
    "        \"labels\": STACLabelRef,\n",
    "        \"raster\": STACLabelRef,\n",
    "    }\n",
    ")\n",
    "STACLabelProperties = TypedDict(\n",
    "    \"STACLabelProperties\",\n",
    "    {\n",
    "        \"datetime\": str,\n",
    "        \"license\": str,\n",
    "        \"label:properties\": List[str],  # label classes\n",
    "\n",
    "    }\n",
    ")\n",
    "STACLabelExtension = TypedDict(\n",
    "    \"STACLabelExtension\",\n",
    "    {\n",
    "        \"assets\": Required[STACLabelAssets],\n",
    "        \"properties\": Required[STACLabelProperties]\n",
    "    }\n",
    ")\n",
    "STACItemLabel = Union[STACMetadata, STACItemCore, STACLabelExtension]"
   ],
   "metadata": {
    "collapsed": false,
    "is_executing": true
   }
  },
  {
   "cell_type": "code",
   "execution_count": 3,
   "outputs": [],
   "source": [
    "EUROSAT_STAC_COLLECTION_BASE: STACCollection = {  # type: ignore  # missing field for the moment\n",
    "    \"stac_version\": \"1.0.0-rc.1\",\n",
    "    \"stac_extensions\": [\n",
    "        \"https://stac-extensions.github.io/version/v1.0.0/schema.json\"\n",
    "    ],\n",
    "    \"type\": \"Collection\",\n",
    "    # other items to fill by script\n",
    "}"
   ],
   "metadata": {
    "collapsed": false,
    "ExecuteTime": {
     "end_time": "2023-05-25T17:47:44.025171981Z",
     "start_time": "2023-05-25T17:47:43.942211304Z"
    }
   }
  },
  {
   "cell_type": "markdown",
   "source": [
    "**Note** <br>\n",
    "Because we need the metadata to populate STAC Collections, Items and Assets, the `download=True` parameter is used.\n",
    "However, we don't need the actual data (imagery pixel values), but instead the metadata that each GeoTiff contains.\n",
    "Therefore, we override the `_load_image` method to retrieve only metadata, and make parsing faster.\n",
    "Nevertheless, it can take some time to download and extract the ZIP contents on the first run."
   ],
   "metadata": {
    "collapsed": false
   }
  },
  {
   "cell_type": "code",
   "execution_count": null,
   "outputs": [],
   "source": [
    "os.makedirs(EUROSAT_DATA_DIR, exist_ok=True)\n",
    "os.makedirs(EUROSAT_STAC_DIR, exist_ok=True)\n",
    "\n",
    "ImageMetadata = Dict[str, Any]\n",
    "LabelMetadata = Dict[str, Any]\n",
    "\n",
    "\n",
    "class DataLoaderEuroSAT(DatasetEuroSAT):\n",
    "    def _load_image(\n",
    "        self,\n",
    "        sample_index: int,\n",
    "    ) -> Tuple[ImageMetadata, LabelMetadata]:  # type: ignore  # mismatch 'Tuple[Tensor, Tensor]' on purpose\n",
    "        path, target_index = self.samples[sample_index]\n",
    "        class_name = self.classes[target_index]\n",
    "        url = path.replace(EUROSAT_ROOT_DIR, EUROSAT_STAC_URL)\n",
    "\n",
    "        img = gdal.Open(path)\n",
    "        geo = img.GetGeoTransform()\n",
    "\n",
    "        return geo, target\n",
    "\n",
    "\n",
    "for split in DatasetEuroSAT.splits:\n",
    "    stac_collection_file = os.path.join(EUROSAT_STAC_DIR, f\"collection-{split}.json\")\n",
    "    stac_collection = EUROSAT_STAC_COLLECTION_BASE.copy()\n",
    "    data_loader = DataLoaderEuroSAT(root=EUROSAT_DATA_DIR, split=split, download=True)\n",
    "    for sample in data_loader:\n",
    "        label = sample[\"label\"]\n",
    "        if not label:  # ignore tiles by themselves without annotations\n",
    "            continue\n",
    "\n",
    "        image = sample[\"image\"]\n",
    "\n",
    "        print(sample)\n"
   ],
   "metadata": {
    "collapsed": false,
    "is_executing": true
   }
  }
 ],
 "metadata": {
  "kernelspec": {
   "name": "terradue",
   "language": "python",
   "display_name": "terradue"
  },
  "language_info": {
   "codemirror_mode": {
    "name": "ipython",
    "version": 2
   },
   "file_extension": ".py",
   "mimetype": "text/x-python",
   "name": "python",
   "nbconvert_exporter": "python",
   "pygments_lexer": "ipython2",
   "version": "2.7.6"
  }
 },
 "nbformat": 4,
 "nbformat_minor": 0
}
