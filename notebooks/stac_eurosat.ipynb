{
 "cells": [
  {
   "cell_type": "markdown",
   "source": [
    "# STAC EuroSAT\n",
    "\n",
    "This notebook demonstrates how to convert annotations provided by [EuroSAT](https://github.com/phelber/EuroSAT) dataset\n",
    "into STAC-compatible definitions with extensions relevant for machine learning tasks.\n",
    "Notably, the STAC [Label](https://github.com/stac-extensions/label)and [Scientific](https://github.com/stac-extensions/scientific)\n",
    "extensions are used to reference the labeled annotations from train, validation and test splits, and provide citation reference to\n",
    "the original work respectively.\n",
    "\n",
    "To facilitate parsing of EuroSAT metadata itself,\n",
    "the [torchgeo.datasets.EuroSAT](https://torchgeo.readthedocs.io/en/stable/api/datasets.html#torchgeo.datasets.EuroSAT)\n",
    "class will be used to handle the metadata extraction process, parsing the labeled data hierarchy, and generate the splits\n",
    "definition and sample generation from them."
   ],
   "metadata": {
    "collapsed": false
   }
  },
  {
   "cell_type": "markdown",
   "source": [
    "## First Step\n",
    "\n",
    "Below are equivalent `torchgeo.datasets.EuroSAT100` and `torchgeo.datasets.EuroSAT` classes that define a subset and the complete dataset\n",
    "respectively. While developing or editing the STAC generation pipeline, it is recommended to work with the 100 subset variation to speed up\n",
    "the process and directly observe an overview of the expected result."
   ],
   "metadata": {
    "collapsed": false
   }
  },
  {
   "cell_type": "code",
   "execution_count": 6,
   "outputs": [],
   "source": [
    "# pick one:\n",
    "from torchgeo.datasets import EuroSAT100 as DatasetEuroSAT  # subset of (6 train, 2 val, 2 test) image samples per class (10)\n",
    "# from torchgeo.datasets import EuroSAT as DatasetEuroSAT  # full dataset"
   ],
   "metadata": {
    "collapsed": false,
    "ExecuteTime": {
     "end_time": "2023-05-26T15:43:15.976339867Z",
     "start_time": "2023-05-26T15:43:15.949067840Z"
    }
   }
  },
  {
   "cell_type": "markdown",
   "source": [
    "## General configurations"
   ],
   "metadata": {
    "collapsed": false
   }
  },
  {
   "cell_type": "code",
   "execution_count": 7,
   "outputs": [],
   "source": [
    "import os\n",
    "\n",
    "DATA_ROOT_DIR = os.path.abspath(\"../data\")\n",
    "CATALOG_ROOT_DIR = DATA_ROOT_DIR\n",
    "EUROSAT_ROOT_DIR = os.path.join(DATA_ROOT_DIR, \"EuroSAT\")\n",
    "EUROSAT_DATA_DIR = os.path.join(EUROSAT_ROOT_DIR, \"data\")\n",
    "EUROSAT_STAC_DIR = os.path.join(EUROSAT_ROOT_DIR, \"stac\")\n",
    "EUROSAT_STAC_URL = \"https://example.com/\"  # base URL where samples would be accessible from (links in STAC)\n",
    "\n",
    "os.makedirs(EUROSAT_DATA_DIR, exist_ok=True)\n",
    "os.makedirs(EUROSAT_STAC_DIR, exist_ok=True)"
   ],
   "metadata": {
    "collapsed": false,
    "ExecuteTime": {
     "end_time": "2023-05-26T15:43:19.079849530Z",
     "start_time": "2023-05-26T15:43:19.076572656Z"
    }
   }
  },
  {
   "cell_type": "markdown",
   "source": [
    "## STAC Definitions\n",
    "\n",
    "Following types are **NOT** used for \"strong\" type checking.\n",
    "They are provided as reference of the expected STAC properties and for quick validation of the structure by IDEs."
   ],
   "metadata": {
    "collapsed": false
   }
  },
  {
   "cell_type": "markdown",
   "source": [
    "### Base Definitions"
   ],
   "metadata": {
    "collapsed": false
   }
  },
  {
   "cell_type": "code",
   "execution_count": 20,
   "outputs": [],
   "source": [
    "import datetime\n",
    "import os\n",
    "from typing import Any, Dict, List, Literal, Optional, TypedDict, Union\n",
    "from typing_extensions import NotRequired, Required\n",
    "\n",
    "\n",
    "STAC_VERSION = \"1.0.0\"\n",
    "\n",
    "STAC_CATALOG_EXTENSIONS = []\n",
    "STAC_CATALOG_SCHEMAS = [\n",
    "    f\"https://schemas.stacspec.org/v{STAC_VERSION}/catalog-spec/json-schema/catalog.json\",\n",
    "] + STAC_CATALOG_EXTENSIONS\n",
    "\n",
    "STAC_COLLECTION_EXTENSIONS = [\n",
    "    \"https://stac-extensions.github.io/ml-aoi/v0.1.0/schema.json\",\n",
    "    \"https://stac-extensions.github.io/version/v1.0.0/schema.json\",\n",
    "]\n",
    "STAC_COLLECTION_SCHEMAS = [\n",
    "    f\"https://schemas.stacspec.org/v{STAC_VERSION}/collection-spec/json-schema/collection.json\",\n",
    "] + STAC_COLLECTION_EXTENSIONS\n",
    "\n",
    "STAC_ITEM_EXTENSIONS = [\n",
    "    \"https://stac-extensions.github.io/file/v1.0.0/schema.json\",\n",
    "    \"https://stac-extensions.github.io/label/v1.0.1/schema.json\",\n",
    "    \"https://stac-extensions.github.io/ml-aoi/v0.1.0/schema.json\",\n",
    "    \"https://stac-extensions.github.io/scientific/v1.0.0/schema.json\",\n",
    "    \"https://stac-extensions.github.io/version/v1.0.0/schema.json\",\n",
    "]\n",
    "STAC_ITEM_SCHEMAS = [\n",
    "    f\"https://schemas.stacspec.org/v{STAC_VERSION}/item-spec/json-schema/item.json\",\n",
    "] + STAC_ITEM_EXTENSIONS\n",
    "\n",
    "# technically, tuples would be better for bbox/point, but not the types used in JSON\n",
    "Number = Union[int, float]\n",
    "BoundingBox = List[Number]  # 4 value\n",
    "Point = List[Number]  # 2 values\n",
    "DateTimeInterval = List[Union[str, None]]\n",
    "GeoJSONGeometry = TypedDict(\n",
    "    \"GeoJSONGeometry\",\n",
    "    {\n",
    "        \"type\": Literal[\"Polygon\", \"MultiPolygon\"],  # others exist, but not really applicable for this case\n",
    "        \"coordinates\": List[Point],  # at least 4 normally for square/polygon bbox, but more valid if multi-polygon\n",
    "    }\n",
    ")\n",
    "SpatialExtent = TypedDict(\n",
    "    \"SpatialExtent\",\n",
    "    {\n",
    "        \"bbox\": Required[List[BoundingBox]],\n",
    "    }\n",
    ")\n",
    "TemporalExtent = TypedDict(\n",
    "    \"TemporalExtent\",\n",
    "    {\n",
    "        \"interval\": Required[List[DateTimeInterval]],\n",
    "    }\n",
    ")\n",
    "Extent = TypedDict(\n",
    "    \"Extent\",\n",
    "    {\n",
    "        \"spatial\": Required[SpatialExtent],\n",
    "        \"temporal\": Required[TemporalExtent],\n",
    "    }\n",
    ")\n",
    "Provider = TypedDict(\n",
    "    \"Provider\",\n",
    "    {\n",
    "        \"name\": str,\n",
    "        \"roles\": List[str],\n",
    "        \"url\": str,\n",
    "    }\n",
    ")\n",
    "Link = TypedDict(\n",
    "    \"Link\",\n",
    "    {\n",
    "        \"rel\": str,\n",
    "        \"href\": str,\n",
    "        \"type\": str,  # media-type\n",
    "        \"title\": NotRequired[str],\n",
    "    },\n",
    "    total=False,\n",
    ")\n",
    "STACMetadata = TypedDict(\n",
    "    \"STACMetadata\",\n",
    "    {\n",
    "        \"stac_version\": Required[str],\n",
    "        \"type\": Required[Literal[\"Catalog\", \"Collection\", \"Feature\"]],  # NB: Feature == STAC Item\n",
    "        \"id\": Required[str],\n",
    "        \"title\": NotRequired[str],\n",
    "        \"description\": NotRequired[str],\n",
    "        \"links\": Required[List[Link]],\n",
    "    }\n",
    ")"
   ],
   "metadata": {
    "collapsed": false,
    "ExecuteTime": {
     "end_time": "2023-05-26T15:55:27.972100451Z",
     "start_time": "2023-05-26T15:55:27.923288283Z"
    }
   }
  },
  {
   "cell_type": "markdown",
   "source": [
    "### STAC Catalog"
   ],
   "metadata": {
    "collapsed": false
   }
  },
  {
   "cell_type": "code",
   "execution_count": 21,
   "outputs": [],
   "source": [
    "STACCatalog = STACMetadata  # only requires \"links\" to contain the STAC Collection as \"child\""
   ],
   "metadata": {
    "collapsed": false,
    "ExecuteTime": {
     "end_time": "2023-05-26T15:55:29.212114732Z",
     "start_time": "2023-05-26T15:55:29.179181428Z"
    }
   }
  },
  {
   "cell_type": "markdown",
   "source": [
    "### STAC Collection and Extensions"
   ],
   "metadata": {
    "collapsed": false
   }
  },
  {
   "cell_type": "code",
   "execution_count": 22,
   "outputs": [],
   "source": [
    "STACMetadataCollection = TypedDict(\n",
    "    \"STACMetadataCollection\",\n",
    "    {\n",
    "        \"stac_extensions\": Required[List[str]],\n",
    "        \"version\": Required[str],\n",
    "        \"keywords\": NotRequired[List[str]],\n",
    "        \"license\": Required[str],  # anything, but commonly \"CC-BY-SA-4.0\"\n",
    "    }\n",
    ")\n",
    "STACMetadataCollection = Union[STACMetadataCollection, STACMetadata]\n",
    "STACExtensionVersion = TypedDict(\n",
    "    \"STACExtensionVersion\",\n",
    "    {\n",
    "        \"version\": Required[str],\n",
    "        \"deprecated\": NotRequired[bool],\n",
    "        \"experimental\": NotRequired[bool],\n",
    "    }\n",
    ")\n",
    "STACCoreCollection = TypedDict(\n",
    "    \"STACCoreCollection\",\n",
    "    {\n",
    "        \"extent\": Required[Extent],\n",
    "        \"providers\": NotRequired[List[Provider]],\n",
    "    }\n",
    ")\n",
    "STACLabelRef = TypedDict(\n",
    "    \"STACLabelRef\",\n",
    "    {\n",
    "        \"title\": str,\n",
    "        \"href\": str,    # URL to GeoJSON FeatureCollection or GeoTiff/COG\n",
    "        \"type\": str,    # media-type\n",
    "    }\n",
    ")\n",
    "STACLabelAssets = TypedDict(\n",
    "    \"STACLabelAssets\",\n",
    "    {\n",
    "        \"labels\": STACLabelRef,\n",
    "        \"raster\": STACLabelRef,\n",
    "    }\n",
    ")\n",
    "STACLabelClass = TypedDict(\n",
    "    \"STACLabelClass\",\n",
    "    {\n",
    "        # name that can define a \"category\" of classe names\n",
    "        # those categories should be specified in Features under the keys defined by 'label:properties'\n",
    "        \"name\": Required[Union[str, None]],\n",
    "        # all the applicable classes that should be part of the \"category\"\n",
    "        \"classes\": Required[Union[List[str], List[int]]],\n",
    "    }\n",
    ")\n",
    "STACLabelCount = TypedDict(\n",
    "    \"STACLabelCount\",\n",
    "    {\n",
    "        \"name\": str,  # class\n",
    "        \"count\": int,\n",
    "    }\n",
    ")\n",
    "STACLabelOverview = TypedDict(\n",
    "    \"STACLabelOverview\",\n",
    "    {\n",
    "        \"property_key\": str,\n",
    "        \"counts\": List[STACLabelCount],\n",
    "    }\n",
    ")\n",
    "STACLabelProperties = TypedDict(\n",
    "    \"STACLabelProperties\",\n",
    "    {\n",
    "        # properties in the linked 'labels' asset with GeoJSON FeatureCollection\n",
    "        # those properties should be provided for each Feature in the GeoJSON\n",
    "        # the values of those properties should contain the keys from 'label:classes'\n",
    "        \"label:properties\": Required[List[str]],\n",
    "        \"label:classes\": Required[List[STACLabelClass]],\n",
    "        \"label:type\": Required[Literal[\"raster\", \"vector\"]],\n",
    "        \"label:description\": Required[str],\n",
    "        \"label:methods\": NotRequired[List[Literal[\"manual\", \"automatic\"]]],\n",
    "        \"label:tasks\": NotRequired[List[Literal[\"classification\", \"detection\", \"segmentation\", \"regression\"]]],\n",
    "        \"label:overviews\": NotRequired[List[Dict[str, Any]]],\n",
    "    }\n",
    ")\n",
    "STACExtensionLabel = TypedDict(\n",
    "    \"STACExtensionLabel\",\n",
    "    {\n",
    "        \"assets\": Required[STACLabelAssets],\n",
    "        \"properties\": Required[Union[STACLabelProperties, STACExtensionVersion]],\n",
    "    }\n",
    ")\n",
    "STACCitation = TypedDict(\n",
    "    \"STACCitation\",\n",
    "    {\n",
    "        \"doi\": str,\n",
    "        \"citation\": str,\n",
    "    }\n",
    ")\n",
    "STACExtensionScientific = TypedDict(\n",
    "    \"STACExtensionScientific\",\n",
    "    {\n",
    "        # how to cite this collection\n",
    "        \"sci:doi\": Required[str],  # ++ \"Link\" with 'cite-as' using the DOI reference (RFC-8574)\n",
    "        \"sci:citation\": Required[str],\n",
    "        # related work/citations that use this STAC data collection\n",
    "        \"sci:publications\": NotRequired[List[STACCitation]],\n",
    "    }\n",
    ")\n",
    "STACExtendedCollection = Union[\n",
    "    STACMetadataCollection,\n",
    "    STACCoreCollection,\n",
    "    STACExtensionScientific,\n",
    "    STACExtensionVersion,\n",
    "]"
   ],
   "metadata": {
    "collapsed": false,
    "ExecuteTime": {
     "end_time": "2023-05-26T15:55:30.169459060Z",
     "start_time": "2023-05-26T15:55:30.127100133Z"
    }
   }
  },
  {
   "cell_type": "markdown",
   "source": [
    "### STAC Item and Assets"
   ],
   "metadata": {
    "collapsed": false
   }
  },
  {
   "cell_type": "code",
   "execution_count": 23,
   "outputs": [],
   "source": [
    "STACCoreMetadataItem = Union[STACMetadata, ]\n",
    "STACCoreItemProperties = TypedDict(\n",
    "    \"STACCoreItemProperties\",\n",
    "    {\n",
    "        \"datetime\": Required[str],\n",
    "        \"license\": Required[str],\n",
    "    },\n",
    "    total=False,\n",
    ")\n",
    "STACCoreFeatureItem = TypedDict(\n",
    "    \"STACCoreFeatureItem\",\n",
    "    {\n",
    "        \"type\": Literal[\"Feature\"],\n",
    "        \"bbox\": Required[BoundingBox],\n",
    "        \"geometry\": Required[GeoJSONGeometry],\n",
    "        \"assets\": Required[List[Dict[str, Any]]],\n",
    "        \"properties\": Required[STACCoreItemProperties],\n",
    "        \"collection\": str,\n",
    "    }\n",
    ")\n",
    "STACExtendedItem = Union[\n",
    "    STACCoreMetadataItem,\n",
    "    STACCoreFeatureItem,\n",
    "    STACExtensionLabel,\n",
    "]"
   ],
   "metadata": {
    "collapsed": false,
    "ExecuteTime": {
     "end_time": "2023-05-26T15:55:31.097268839Z",
     "start_time": "2023-05-26T15:55:31.090968171Z"
    }
   }
  },
  {
   "cell_type": "markdown",
   "source": [
    "### STAC Metadata Definition\n",
    "\n",
    "To make the calling functions more succinct, start by defining constant metadata references used by STAC Collections."
   ],
   "metadata": {
    "collapsed": false
   }
  },
  {
   "cell_type": "code",
   "execution_count": 24,
   "outputs": [],
   "source": [
    "EUROSAT_STAC_COLLECTION_BASE: STACExtendedCollection = {\n",
    "    \"stac_version\": STAC_VERSION,\n",
    "    \"stac_extensions\": STAC_COLLECTION_EXTENSIONS,\n",
    "    \"type\": \"Collection\",\n",
    "    \"version\": \"1\",\n",
    "    \"experimental\": True,\n",
    "    # https://github.com/phelber/EuroSAT/blob/master/README.md\n",
    "    \"sci:doi\": \"arXiv:1709.00029\",\n",
    "    \"sci:citation\": (\n",
    "        \"Eurosat: A novel dataset and deep learning benchmark for land use and land cover classification. \"\n",
    "        \"Patrick Helber, Benjamin Bischke, Andreas Dengel, Damian Borth. \"\n",
    "        \"IEEE Journal of Selected Topics in Applied Earth Observations and Remote Sensing, 2019.\"\n",
    "    ),\n",
    "    \"sci:publications\": [\n",
    "        {\n",
    "            \"doi\": \"10.1109/IGARSS.2018.8519248\",\n",
    "            \"citation\": (\n",
    "                \"Introducing EuroSAT: A Novel Dataset and Deep Learning Benchmark for Land Use and Land Cover Classification. \"\n",
    "                \"Patrick Helber, Benjamin Bischke, Andreas Dengel. 2018 \"\n",
    "                \"IEEE International Geoscience and Remote Sensing Symposium, 2018.\"\n",
    "            ),\n",
    "        }\n",
    "    ],\n",
    "    \"links\": [\n",
    "        {\n",
    "            \"rel\": \"cite-as\",\n",
    "            \"href\": \"https://arxiv.org/abs/1709.00029\",\n",
    "            \"title\": \"EuroSAT: A Novel Dataset and Deep Learning Benchmark for Land Use and Land Cover Classification\",\n",
    "        }\n",
    "    ]\n",
    "    # other items to fill by script\n",
    "}"
   ],
   "metadata": {
    "collapsed": false,
    "ExecuteTime": {
     "end_time": "2023-05-26T15:55:32.066405490Z",
     "start_time": "2023-05-26T15:55:32.048412142Z"
    }
   }
  },
  {
   "cell_type": "markdown",
   "source": [
    "## Populate STAC Catalog, Collections, Items and Assets from EuroSAT Dataset\n",
    "\n",
    "**Note** <br>\n",
    "Because we need the metadata to populate STAC Collections, Items and Assets, the `download=True` parameter is used.\n",
    "However, we don't need the actual data (imagery pixel values), but instead the metadata that each GeoTiff contains.\n",
    "Therefore, we override the `__getitem__` method to retrieve only metadata, by bypassing image loading/conversion, and make parsing faster.\n",
    "Nevertheless, it can take some time to download and extract the ZIP contents on the first run."
   ],
   "metadata": {
    "collapsed": false
   }
  },
  {
   "cell_type": "code",
   "execution_count": 37,
   "outputs": [],
   "source": [
    "import json\n",
    "from copy import deepcopy\n",
    "from datetime import datetime\n",
    "\n",
    "import rasterio\n",
    "from rasterio.crs import CRS\n",
    "from rasterio.warp import transform_bounds, transform_geom\n",
    "from osgeo import gdal\n",
    "from shapely.geometry import box\n",
    "from torchvision.datasets.folder import pil_loader\n",
    "from PIL.Image import Resampling\n",
    "\n",
    "\n",
    "SampleMetadata = TypedDict(\n",
    "    \"SampleMetadata\",\n",
    "    {\n",
    "        \"image\": str,\n",
    "        \"index\": int,\n",
    "        \"label\": str,\n",
    "        \"class\": str,\n",
    "    }\n",
    ")\n",
    "\n",
    "EPSG_4326 =  CRS.from_epsg(4326)  # required by STAC as standard for all Geo references\n",
    "\n",
    "\n",
    "class DataLoaderEuroSAT(DatasetEuroSAT):\n",
    "    def __getitem__(\n",
    "        self,\n",
    "        sample_index: int,\n",
    "    ) -> Optional[SampleMetadata]:  # type: ignore  # mismatch 'Dict[str, Tensor]' on purpose\n",
    "        img_path, target_index = self.samples[sample_index]\n",
    "        class_name = self.classes[target_index]\n",
    "        return {\"image\": img_path, \"index\": sample_index, \"label\": str(target_index), \"class\": class_name}\n",
    "\n",
    "\n",
    "def save_thumbnail(src_path: str, png_path: str) -> None:\n",
    "    if not os.path.isfile(png_path):\n",
    "        os.makedirs(os.path.dirname(png_path), exist_ok=True)\n",
    "        img = pil_loader(src_path)\n",
    "        w_size = 64\n",
    "        if img.size != (w_size, w_size):\n",
    "            w_scale = w_size / float(img.size[0])\n",
    "            h_size = int(float(img.size[1]) * float(w_scale))\n",
    "            img = img.resize((w_size, h_size), Resampling.LANCZOS)\n",
    "        img.save(png_path)\n",
    "\n",
    "\n",
    "def convert_sample_to_stac_item(sample: SampleMetadata) -> STACExtendedItem:\n",
    "    #img = gdal.Open(path)\n",
    "    #geo = img.GetGeoTransform()\n",
    "    img = rasterio.open(sample[\"image\"])\n",
    "    png_path = sample[\"image\"].replace(\"/tif/\", \"/png/\").replace(\".tif\", \".png\")\n",
    "    save_thumbnail(sample[\"image\"], png_path)\n",
    "    bbox_bounds = transform_bounds(\n",
    "        img.crs,\n",
    "        EPSG_4326,\n",
    "        *img.bounds,\n",
    "    )\n",
    "    geom = transform_geom(\n",
    "        img.crs,\n",
    "        EPSG_4326,\n",
    "        box(*bbox_bounds),\n",
    "    )\n",
    "    image_name = os.path.splitext(os.path.split(sample[\"image\"])[-1])[0]\n",
    "    label_geojson = geom.__geo_interface__,  # GeoJSON\n",
    "    label_path = sample[\"image\"].replace(\"/tif/\", \"/label/\").replace(\".tif\", \".geojson\")\n",
    "    os.makedirs(os.path.dirname(label_path), exist_ok=True)\n",
    "    save_json(label_geojson, label_path)\n",
    "    class_name = sample[\"class\"]\n",
    "    stac_item: STACExtendedItem = {\n",
    "        \"stac_version\": STAC_VERSION,\n",
    "        \"stac_extensions\": STAC_ITEM_EXTENSIONS,\n",
    "        \"type\": \"Feature\",\n",
    "        \"bbox\": bbox_bounds,\n",
    "        \"geometry\": geom.__geo_interface__,  # GeoJSON\n",
    "        \"assets\": {\n",
    "            \"labels\": {\n",
    "                \"title\": f\"Labels for image {image_name} with {class_name} class\",\n",
    "                \"href\": get_url(label_path),\n",
    "                \"type\": \"application/geo+json\"\n",
    "            },\n",
    "            \"raster\": {\n",
    "                \"title\": f\"Raster {image_name} with {class_name} class\",\n",
    "                \"href\": get_url(sample[\"image\"]),\n",
    "                \"type\": \"image/tiff; application=geotiff\",  # add \"; profile=cloud-optimized\" if applicable\n",
    "            },\n",
    "            \"thumbnail\": {\n",
    "                \"title\": f\"Preview of {image_name}.\",\n",
    "                \"href\": get_url(png_path),\n",
    "                \"type\": \"image/png\",\n",
    "            }\n",
    "        },\n",
    "        \"properties\": {\n",
    "            \"datetime\": datetime.utcnow().isoformat(),\n",
    "            \"license\": \"CC-BY-4.0\",\n",
    "            \"version\": \"1\",\n",
    "            \"label:properties\": [\n",
    "                \"class\"\n",
    "            ],\n",
    "            \"label:method\": [\"manual\"],\n",
    "            \"label:description\": \"Land-cover area classification on Sentinel-2 image.\",\n",
    "            \"label:classes\": [\n",
    "                {\n",
    "                    \"name\": sample[\"class\"],\n",
    "                    \"classes\": [str(sample[\"index\"])],\n",
    "                }\n",
    "            ],\n",
    "            \"label:overviews\": [\n",
    "                # basic overview since each sample has its own STAC Item\n",
    "                {\n",
    "                    \"property_key\": \"class\",\n",
    "                    \"counts\": [{\"name\": sample[\"class\"], \"count\": 1}],\n",
    "                }\n",
    "            ]\n",
    "        }\n",
    "    }\n",
    "    return stac_item\n",
    "\n",
    "\n",
    "def get_url(url_path: str) -> str:\n",
    "    url_path = url_path.replace(CATALOG_ROOT_DIR, \"\").lstrip(\"/\")\n",
    "    url_path = os.path.join(EUROSAT_STAC_URL, url_path)\n",
    "    return url_path\n",
    "\n",
    "\n",
    "def save_json(data: Dict[str, Any], json_file_path: str) -> None:\n",
    "    with open(json_file_path, mode=\"w\", encoding=\"utf-8\") as fs:\n",
    "        json.dump(data, fs, indent=2, ensure_ascii=False, sort_keys=False)\n",
    "\n",
    "\n",
    "def load_json(json_file_path: str) -> Dict[str, Any]:\n",
    "    with open(json_file_path, mode=\"r\", encoding=\"utf-8\") as fs:\n",
    "        return json.load(fs)"
   ],
   "metadata": {
    "collapsed": false
   }
  },
  {
   "cell_type": "code",
   "execution_count": 38,
   "outputs": [],
   "source": [
    "CATALOG_URL = get_url(\"catalog.json\")\n",
    "CATALOG_ROOT_LINK = {\n",
    "  \"rel\": \"root\",\n",
    "  \"href\": CATALOG_URL,\n",
    "  \"type\": \"application/json\"\n",
    "}\n",
    "\n",
    "\n",
    "def generate_stac_collections():\n",
    "    stac_catalog_collection_links: List[Link] = []\n",
    "    for split in DatasetEuroSAT.splits:\n",
    "        stac_collection = EUROSAT_STAC_COLLECTION_BASE.copy()\n",
    "        stac_collection_path = os.path.join(EUROSAT_STAC_DIR, split, \"collection.json\")\n",
    "        stac_collection_url = get_url(stac_collection_path)\n",
    "        stac_collection_link: Link = {\n",
    "            \"rel\": \"collection\",\n",
    "            \"href\": stac_collection_url,\n",
    "            \"type\": \"application/json\",\n",
    "            \"title\":  f\"EuroSAT STAC Collection with samples from '{split}' split.\",\n",
    "        }\n",
    "        stac_collection_parent = stac_collection_link.copy()\n",
    "        stac_collection_parent[\"rel\"] = \"parent\"\n",
    "\n",
    "        data_loader = DataLoaderEuroSAT(root=EUROSAT_DATA_DIR, split=split, download=True)\n",
    "        for sample in data_loader:\n",
    "            label = sample[\"label\"]\n",
    "            if not label:  # ignore tiles by themselves without annotations\n",
    "                continue\n",
    "            index = sample[\"index\"]\n",
    "            item = convert_sample_to_stac_item(sample)\n",
    "            item[\"links\"] = [\n",
    "                CATALOG_ROOT_LINK,\n",
    "                stac_collection_parent,\n",
    "                stac_collection_link,\n",
    "            ]\n",
    "            iloc = f\"{split}/item-{index}.json\"\n",
    "            path = os.path.join(EUROSAT_STAC_DIR, split, iloc)\n",
    "            save_json(item, path)\n",
    "            stac_collection[\"links\"].append(\n",
    "                {\n",
    "                    \"rel\": \"item\",\n",
    "                    \"href\": get_url(iloc),\n",
    "                    \"type\": \"application/geo+json\",\n",
    "                }\n",
    "            )\n",
    "\n",
    "        stac_collection_self = stac_collection_link.copy()\n",
    "        stac_collection_self[\"rel\"] = \"self\"\n",
    "        stac_catalog_collection_links.append(stac_collection_self)\n",
    "        stac_collection[\"links\"].extend([\n",
    "            CATALOG_ROOT_LINK,\n",
    "            stac_collection_link,\n",
    "            {\n",
    "                \"rel\": \"parent\",\n",
    "                \"href\": get_url(\"catalog.json\"),\n",
    "                \"type\": \"application/json\",\n",
    "                \"title\": \"STAC Catalog\",\n",
    "            }\n",
    "        ])\n",
    "        save_json(stac_collection, stac_collection_path)\n",
    "\n",
    "    return stac_catalog_collection_links"
   ],
   "metadata": {
    "collapsed": false
   }
  },
  {
   "cell_type": "code",
   "execution_count": null,
   "outputs": [
    {
     "name": "stderr",
     "output_type": "stream",
     "text": [
      "More samples per pixel than can be decoded: 13\n",
      "More samples per pixel than can be decoded: 13\n"
     ]
    }
   ],
   "source": [
    "stac_catalog_collections = generate_stac_collections()\n",
    "catalog_collections_refs = deepcopy(stac_catalog_collections)\n",
    "for link in catalog_collections_refs:\n",
    "    link[\"rel\"] = \"child\"\n",
    "\n",
    "\n",
    "catalog: STACCatalog = {\n",
    "    \"id\": \"example\",\n",
    "    \"type\": \"Catalog\",\n",
    "    \"title\": \"Example STAC Catalog\",\n",
    "    \"stac_version\": STAC_VERSION,\n",
    "    \"description\": \"Example catalog with annotated label collections.\",\n",
    "    \"links\": [\n",
    "         CATALOG_ROOT_LINK,\n",
    "        {\n",
    "            \"rel\": \"self\",\n",
    "            \"href\": CATALOG_URL,\n",
    "            \"type\": \"application/json\"\n",
    "        }\n",
    "    ] + catalog_collections_refs\n",
    "}"
   ],
   "metadata": {
    "collapsed": false,
    "is_executing": true
   }
  },
  {
   "cell_type": "markdown",
   "source": [
    "## STAC Schema Validation\n",
    "\n",
    "Verify that all items that were generated respect the various STAC schemas."
   ],
   "metadata": {
    "collapsed": false
   }
  },
  {
   "cell_type": "code",
   "execution_count": null,
   "outputs": [],
   "source": [
    "from jsonschema.exceptions import ValidationError\n",
    "from jsonschema.validators import validate\n",
    "\n",
    "stac_catalog_files = []\n",
    "stac_collection_files = []\n",
    "stac_item_files = []\n",
    "for root, _, files in os.walk(CATALOG_ROOT_DIR):\n",
    "    for file in files:\n",
    "        file_path = os.path.join(root, file)\n",
    "        if file == \"catalog.json\":\n",
    "            stac_catalog_files.append(file_path)\n",
    "        elif file == \"collection.json\":\n",
    "            stac_collection_files.append(file_path)\n",
    "        elif file.startswith(\"item-\") and file.endswith(\".json\"):\n",
    "            stac_item_files.append(file_path)\n",
    "\n",
    "assert stac_catalog_files\n",
    "assert stac_collection_files\n",
    "assert stac_item_files\n",
    "\n",
    "stac_file = None\n",
    "schema_file = None\n",
    "try:\n",
    "    for files, schemas in [\n",
    "        (stac_catalog_files, STAC_CATALOG_SCHEMAS),\n",
    "        (stac_collection_files, STAC_COLLECTION_SCHEMAS),\n",
    "        (stac_item_files, STAC_ITEM_SCHEMAS),\n",
    "    ]:\n",
    "        for schema_file in schemas:\n",
    "            schema = load_json(schema_file)\n",
    "            for stac_file in files:\n",
    "                content = load_json(stac_file)\n",
    "                validate(content, schema)\n",
    "except ValidationError as exc:\n",
    "    raise AssertionError(f\"Failed [{stac_file}] validation against [{schema_file}]\") from exc\n"
   ],
   "metadata": {
    "collapsed": false
   }
  }
 ],
 "metadata": {
  "kernelspec": {
   "name": "terradue",
   "language": "python",
   "display_name": "terradue"
  },
  "language_info": {
   "codemirror_mode": {
    "name": "ipython",
    "version": 2
   },
   "file_extension": ".py",
   "mimetype": "text/x-python",
   "name": "python",
   "nbconvert_exporter": "python",
   "pygments_lexer": "ipython2",
   "version": "2.7.6"
  }
 },
 "nbformat": 4,
 "nbformat_minor": 0
}
